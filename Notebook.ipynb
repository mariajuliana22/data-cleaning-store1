{
 "cells": [
  {
   "cell_type": "markdown",
   "id": "48fcffb7",
   "metadata": {},
   "source": [
    "**Análisis y limpieza de datos de Store 1**\n",
    "\n",
    "Store 1 es una empresa de comercio electrónico que ha comenzado a recopilar datos sobre sus clientes. El objetivo de este análisis es evaluar la calidad de los datos, corregir inconsistencias y extraer información útil sobre los clientes y sus patrones de compra. Esto permitirá a Store 1 mejorar su toma de decisiones y optimizar su estrategia de ventas.\n",
    "\n",
    "\n",
    "**Objetivos del Proyecto**\n",
    "- Identificar y corregir problemas en los datos recopilados.\n",
    "- Realizar limpieza y transformaciones en la información.\n",
    "- Extraer métricas clave sobre los clientes y su comportamiento de compra.\n",
    "- Generar una segmentación inicial de clientes según su gasto y categoría de compra.\n",
    "\n",
    "/\n",
    "\n",
    "**Store 1 data analysis and cleansing**\n",
    "\n",
    "Store 1 is an e-commerce company that has started collecting data about its customers. The goal of this analysis is to assess the quality of the data, correct inconsistencies and extract useful information about customers and their buying patterns. This will enable Store 1 to improve its decision making and optimize its sales strategy.\n",
    "\n",
    "**Project Objectives**\n",
    "- Identify and correct problems in the data collected.\n",
    "- Perform data cleansing and transformations.\n",
    "- Extract key metrics about customers and their buying behavior.\n",
    "- Generate an initial segmentation of customers according to their spending and purchase category."
   ]
  },
  {
   "cell_type": "markdown",
   "id": "1c989c1b",
   "metadata": {},
   "source": [
    "## Limpieza y transformaciones en la información / Cleaning and information transformations"
   ]
  },
  {
   "cell_type": "markdown",
   "id": "a48916cb",
   "metadata": {},
   "source": [
    "Store 1 tiene como objetivo garantizar la coherencia en la recopilación de datos. Como parte de esta iniciativa, se debe evaluar la calidad de los datos recopilados sobre los usuarios y las usuarias. \n",
    "\n",
    "Store 1 aims to ensure consistency in data collection. As part of this initiative, the quality of data collected on users must be assessed."
   ]
  },
  {
   "cell_type": "code",
   "execution_count": 1,
   "id": "de75e41f",
   "metadata": {},
   "outputs": [],
   "source": [
    "user_id = '32415'\n",
    "user_name = ' mike_reed '\n",
    "user_age = 32.0\n",
    "fav_categories = ['ELECTRONICS', 'SPORT', 'BOOKS']"
   ]
  },
  {
   "cell_type": "markdown",
   "id": "5acf9ce6",
   "metadata": {},
   "source": [
    "El tipo de datos para `user_id` debe cambiarse de una cadena a un número entero. / The data type for user_id must be changed from a string to an integer."
   ]
  },
  {
   "cell_type": "code",
   "execution_count": 14,
   "id": "40a35c18",
   "metadata": {},
   "outputs": [
    {
     "name": "stdout",
     "output_type": "stream",
     "text": [
      "mike reed\n"
     ]
    }
   ],
   "source": [
    "user_name = ' mike_reed '\n",
    "user_name = user_name.strip() #Eliminar los espacios en la cadena original / Remove spaces in the original string\n",
    "user_name = user_name.replace('_', ' ') #Reemplazar el guion bajo con el espacio / Replace the underscore with space\n",
    "\n",
    "print(user_name)"
   ]
  },
  {
   "cell_type": "markdown",
   "id": "522386cc",
   "metadata": {},
   "source": [
    "La variable `user_name` contiene una cadena que tiene espacios innecesarios y un guion bajo entre el nombre y el apellido.\n",
    "\n",
    "The user_name variable contains a string that has unnecessary spaces and an underscore between the first and last name."
   ]
  },
  {
   "cell_type": "code",
   "execution_count": 3,
   "id": "39586777",
   "metadata": {},
   "outputs": [
    {
     "name": "stdout",
     "output_type": "stream",
     "text": [
      "['mike', 'reed']\n"
     ]
    }
   ],
   "source": [
    "user_name = 'mike reed'\n",
    "name_split = user_name.split() #Dividir el string user_name / Split string user_name\n",
    "\n",
    "print(name_split)"
   ]
  },
  {
   "cell_type": "markdown",
   "id": "d11c75c6",
   "metadata": {},
   "source": [
    "El tipo de datos de `user_age` es incorrecto.\n",
    "\n",
    "The data type of user_age is incorrect."
   ]
  },
  {
   "cell_type": "code",
   "execution_count": 4,
   "id": "ceab2e4b",
   "metadata": {},
   "outputs": [
    {
     "name": "stdout",
     "output_type": "stream",
     "text": [
      "32\n"
     ]
    }
   ],
   "source": [
    "user_age = 32.0\n",
    "\n",
    "#Cambiar el tipo de datos para la edad de un usuario o usuaria / Change the data type for a user's age\n",
    "user_age = int(user_age) \n",
    "\n",
    "print(user_age)"
   ]
  },
  {
   "cell_type": "markdown",
   "id": "b0f662e7",
   "metadata": {},
   "source": [
    "Como sabemos, los datos no siempre son perfectos. Debemos considerar escenarios en los que el valor de `user_age` no se pueda convertir en un número entero. Para evitar que nuestro sistema se bloquee, debemos tomar medidas con anticipación.\n",
    "\n",
    "Si el intento falla, mostramos un mensaje pidiendo al usuario o la usuaria que proporcione su edad como un valor numérico con el mensaje: Please provide your age as a numerical value. (Proporcione su edad como un valor numérico.)\n",
    "\n",
    "/ \n",
    "\n",
    "As we know, data is not always perfect. We must consider scenarios where the value of user_age cannot be converted to an integer. To prevent our system from crashing, we must take action in advance.\n",
    "\n",
    "If the attempt fails, we display a message asking the user to provide his or her age as a numerical value with the message: Please provide your age as a numerical value."
   ]
  },
  {
   "cell_type": "code",
   "execution_count": 5,
   "id": "0044db71",
   "metadata": {},
   "outputs": [
    {
     "name": "stdout",
     "output_type": "stream",
     "text": [
      "Please provide your age as a numerical value.\n"
     ]
    }
   ],
   "source": [
    "#Variable que almacena la edad como un string / Variable that stores the age as a string.\n",
    "user_age = 'treinta y dos' \n",
    "\n",
    "try:\n",
    "    user_age_int = int(user_age)\n",
    "\n",
    "#Código que intente transformar user_age en un entero y si falla, imprime el mensaje especificado \n",
    "#Code that tries to transform user_age into an integer and if it fails, prints the specified message    \n",
    "except: \n",
    "    print('Please provide your age as a numerical value.') "
   ]
  },
  {
   "cell_type": "markdown",
   "id": "cc170a2d",
   "metadata": {},
   "source": [
    "La lista `fav_categories` contiene cadenas en mayúsculas. En su lugar, deberíamos convertir los valores de la lista a minúsculas.\n",
    "\n",
    "The fav_categories list contains uppercase strings. Instead, we should convert the list values to lowercase."
   ]
  },
  {
   "cell_type": "code",
   "execution_count": 6,
   "id": "0f7dfaaf",
   "metadata": {},
   "outputs": [
    {
     "name": "stdout",
     "output_type": "stream",
     "text": [
      "['electronics', 'sport', 'books']\n"
     ]
    }
   ],
   "source": [
    "fav_categories = ['ELECTRONICS', 'SPORT', 'BOOKS']\n",
    "\n",
    "fav_categories_low = []\n",
    "\n",
    "for categories in fav_categories:\n",
    "    fav_categories_low.append(categories.lower()) \n",
    "\n",
    "print(fav_categories_low)"
   ]
  },
  {
   "cell_type": "markdown",
   "id": "4d11e451",
   "metadata": {},
   "source": [
    "## Extraer métricas clave sobre los clientes y su comportamiento de compra / Extract key metrics about customers and their buying behavior"
   ]
  },
  {
   "cell_type": "markdown",
   "id": "8e116ac7",
   "metadata": {},
   "source": [
    "Hemos obtenido información adicional sobre los hábitos de gasto de nuestros usuarios y usuarias, incluido el importe gastado en cada una de sus categorías favoritas. La gerencia está interesada en las siguientes métricas:\n",
    "- Importe total gastado por el usuario o la usuaria.\n",
    "- Importe mínimo gastado.\n",
    "- Importe máximo gastado.\n",
    "\n",
    "Vamos a calcular estos valores y mostrarlos:\n",
    "\n",
    "/\n",
    "\n",
    "We have obtained additional information on the spending habits of our users, including the amount spent in each of their favorite categories. Management is interested in the following metrics:\n",
    "\n",
    "- Total amount spent by the user.\n",
    "- Minimum amount spent.\n",
    "- Maximum amount spent.\n",
    "\n",
    "Let's calculate these values and display them:"
   ]
  },
  {
   "cell_type": "code",
   "execution_count": 7,
   "id": "fbc7d685",
   "metadata": {},
   "outputs": [
    {
     "name": "stdout",
     "output_type": "stream",
     "text": [
      "1280\n",
      "894\n",
      "173\n"
     ]
    }
   ],
   "source": [
    "fav_categories_low = ['electronics', 'sport', 'books']\n",
    "spendings_per_category = [894, 213, 173]\n",
    "\n",
    "total_amount = sum(spendings_per_category) \n",
    "max_amount = max(spendings_per_category) \n",
    "min_amount = min(spendings_per_category) \n",
    "\n",
    "print(total_amount)\n",
    "print(max_amount)\n",
    "print(min_amount)"
   ]
  },
  {
   "cell_type": "markdown",
   "id": "4e787797",
   "metadata": {},
   "source": [
    "## Generar una segmentación inicial de clientes según su gasto y categoría de compra / Generate an initial segmentation of customers according to their spending and purchase category"
   ]
  },
  {
   "cell_type": "markdown",
   "id": "44cd47e4",
   "metadata": {},
   "source": [
    "La empresa quiere ofrecer descuentos a sus clientes leales. Los clientes y las clientas que realizan compras por un importe total mayor a `$1500` se consideran leales y recibirán un descuento.\n",
    "\n",
    "El objetivo es crear un bucle while que compruebe el importe total gastado y se detenga al alcanzarlo. Para simular nuevas compras, la variable `new_purchase` genera un número entre `30` y `80` en cada iteración del bucle. Esto representa el importe de dinero gastado en una nueva compra y es lo que hay que sumar al total.\n",
    "\n",
    "Una vez que se alcance el importe objetivo y se termine el bucle while, se mostrará la cantidad final.\n",
    "\n",
    "/ \n",
    "\n",
    "The company wants to offer discounts to its loyal customers. Customers who make purchases totaling more than `$1500` are considered loyal and will receive a discount.\n",
    "\n",
    "The goal is to create a while loop that checks the total amount spent and stops when it is reached. To simulate new purchases, the variable `new_purchase` generates a number between `30` and `80` at each iteration of the loop. This represents the amount of money spent on a new purchase and is what needs to be added to the total.\n",
    "\n",
    "Once the target amount is reached and the while loop is terminated, the fine amount will be displayed."
   ]
  },
  {
   "cell_type": "code",
   "execution_count": 8,
   "id": "04eee930",
   "metadata": {},
   "outputs": [
    {
     "name": "stdout",
     "output_type": "stream",
     "text": [
      "1555\n"
     ]
    }
   ],
   "source": [
    "from random import randint\n",
    "\n",
    "total_amount_spent = 1280\n",
    "target_amount = 1500\n",
    "\n",
    "while total_amount_spent < 1500: \n",
    "    #Generar un número aleatorio de 30 a 80 / Generate a random number from 30 to 80\n",
    "    new_purchase = randint(30, 80) \n",
    "    total_amount_spent += new_purchase \n",
    "    \n",
    "print(total_amount_spent)"
   ]
  },
  {
   "cell_type": "markdown",
   "id": "4ca0f5c3",
   "metadata": {},
   "source": [
    "Ahora tenemos toda la información sobre un cliente o una clienta de la forma que queremos que sea. La gerencia de una empresa nos pidió proponer una forma de resumir toda la información sobre un usuario o una usuaria. \n",
    "\n",
    "Esta es la cadena final que queremos crear: User `32415` is `mike` who is `32` years old. (El usuario 32415 es Mike, quien tiene 32 años).\n",
    "\n",
    "/\n",
    "\n",
    "We now have all the information about a customer the way we want it to be. The management of a company asked us to propose a way to summarize all the information about a user.\n",
    "\n",
    "This is the final string that we want to create: User `32415` is `mike` who is `32` years old."
   ]
  },
  {
   "cell_type": "code",
   "execution_count": 9,
   "id": "3fa88ba7",
   "metadata": {},
   "outputs": [
    {
     "name": "stdout",
     "output_type": "stream",
     "text": [
      "user 32415 is mike who is 32 years old.\n"
     ]
    }
   ],
   "source": [
    "user_id = '32415'\n",
    "user_name = ['mike', 'reed']\n",
    "user_age = 32\n",
    "\n",
    "user_name=user_name[0]\n",
    "\n",
    "user_info = f\"user {user_id} is {user_name} who is {user_age} years old.\" \n",
    "\n",
    "print(user_info)"
   ]
  },
  {
   "cell_type": "markdown",
   "id": "6856d4f0",
   "metadata": {},
   "source": [
    "Calcular los ingresos de la empresa / Calculate the company's revenues:"
   ]
  },
  {
   "cell_type": "code",
   "execution_count": 10,
   "id": "aa6785a5",
   "metadata": {},
   "outputs": [
    {
     "name": "stdout",
     "output_type": "stream",
     "text": [
      "2109\n"
     ]
    }
   ],
   "source": [
    "users = [\n",
    "    ['32415', ['mike', 'reed'], 32, ['electronics', 'sport', 'books'],\n",
    "        [894, 213, 173]\n",
    "    ], \n",
    "    ['31980', ['kate', 'morgan'], 24, ['clothes', 'shoes'],\n",
    "        [439, 390]\n",
    "    ] \n",
    "]\n",
    "revenue = 0\n",
    "\n",
    "for user in users:\n",
    "    #Extraer la lista de gastos de cada usuario o usuaria y suma los valores\n",
    "    #Extract the list of expenses for each user and add the values\n",
    "    spendings_list = user[-1] \n",
    "    #Sumar los gastos de todas las categorías para obtener el total de un usuario o una usuaria en particular\n",
    "    #Sum the expenses of all categories to obtain the total for a particular user\n",
    "    total_spendings = sum(spendings_list) \n",
    "    #Actualiza los ingresos / #Update income\n",
    "    revenue += total_spendings \n",
    "\n",
    "print(revenue)"
   ]
  },
  {
   "cell_type": "markdown",
   "id": "94c9d523",
   "metadata": {},
   "source": [
    "Recorrer la lista de usuarios y usuarias y mostrar los nombres de la clientela menor de 30 años.\n",
    "\n",
    "Scroll through the list of users and display the names of the clientele under 30 years of age."
   ]
  },
  {
   "cell_type": "code",
   "execution_count": 11,
   "id": "a06e2c11",
   "metadata": {},
   "outputs": [
    {
     "name": "stdout",
     "output_type": "stream",
     "text": [
      "['kate', 'morgan']\n",
      "['samantha', 'smith']\n",
      "['emily', 'brown']\n",
      "['jose', 'martinez']\n",
      "['james', 'lee']\n"
     ]
    }
   ],
   "source": [
    "users = [\n",
    "    ['32415', ['mike', 'reed'], 32, ['electronics', 'sport', 'books'],\n",
    "     [894, 213, 173]],\n",
    "    ['31980', ['kate', 'morgan'], 24, ['clothes', 'books'], [439,\n",
    "     390]],\n",
    "    ['32156', ['john', 'doe'], 37, ['electronics', 'home', 'food'],\n",
    "     [459, 120, 99]],\n",
    "    ['32761', ['samantha', 'smith'], 29, ['clothes', 'electronics',\n",
    "     'beauty'], [299, 679, 85]],\n",
    "    ['32984', ['david', 'white'], 41, ['books', 'home', 'sport'], [234,\n",
    "     329, 243]],\n",
    "    ['33001', ['emily', 'brown'], 26, ['beauty', 'home', 'food'], [213,\n",
    "     659, 79]],\n",
    "    ['33767', ['maria', 'garcia'], 33, ['clothes', 'food', 'beauty'],\n",
    "     [499, 189, 63]],\n",
    "    ['33912', ['jose', 'martinez'], 22, ['sport', 'electronics', 'home'\n",
    "     ], [259, 549, 109]],\n",
    "    ['34009', ['lisa', 'wilson'], 35, ['home', 'books', 'clothes'],\n",
    "     [329, 189, 329]],\n",
    "    ['34278', ['james', 'lee'], 28, ['beauty', 'clothes', 'electronics'\n",
    "     ], [189, 299, 579]],\n",
    "    ]\n",
    "\n",
    "clientela_menor = [] \n",
    "for clients in users:\n",
    "    if clients[2] < 30:\n",
    "        clientela_menor.append(clients)\n",
    "        print(clients[1])"
   ]
  },
  {
   "cell_type": "markdown",
   "id": "428b7991",
   "metadata": {},
   "source": [
    "Nombres de los usuarios y las usuarias que tengan menos de 30 años y un gasto total superior a 1000 dólares.\n",
    "\n",
    "Names of users who are under 30 years of age and have a total expenditure of more than $1,000."
   ]
  },
  {
   "cell_type": "code",
   "execution_count": 12,
   "id": "e1238a17",
   "metadata": {},
   "outputs": [
    {
     "name": "stdout",
     "output_type": "stream",
     "text": [
      "['samantha', 'smith']\n",
      "['james', 'lee']\n"
     ]
    }
   ],
   "source": [
    "users = [\n",
    "    ['32415', ['mike', 'reed'], 32, ['electronics', 'sport', 'books'],\n",
    "     [894, 213, 173]],\n",
    "    ['31980', ['kate', 'morgan'], 24, ['clothes', 'books'], [439,\n",
    "     390]],\n",
    "    ['32156', ['john', 'doe'], 37, ['electronics', 'home', 'food'],\n",
    "     [459, 120, 99]],\n",
    "    ['32761', ['samantha', 'smith'], 29, ['clothes', 'electronics',\n",
    "     'beauty'], [299, 679, 85]],\n",
    "    ['32984', ['david', 'white'], 41, ['books', 'home', 'sport'], [234,\n",
    "     329, 243]],\n",
    "    ['33001', ['emily', 'brown'], 26, ['beauty', 'home', 'food'], [213,\n",
    "     659, 79]],\n",
    "    ['33767', ['maria', 'garcia'], 33, ['clothes', 'food', 'beauty'],\n",
    "     [499, 189, 63]],\n",
    "    ['33912', ['jose', 'martinez'], 22, ['sport', 'electronics', 'home'\n",
    "     ], [259, 549, 109]],\n",
    "    ['34009', ['lisa', 'wilson'], 35, ['home', 'books', 'clothes'],\n",
    "     [329, 189, 329]],\n",
    "    ['34278', ['james', 'lee'], 28, ['beauty', 'clothes', 'electronics'\n",
    "     ], [189, 299, 579]],\n",
    "    ]\n",
    "\n",
    "nombres = []\n",
    "\n",
    "for user in users:\n",
    "    gasto = user [-1]\n",
    "    suma_gasto = sum(gasto)\n",
    "    \n",
    "    if user[2] < 30 and suma_gasto > 1000:\n",
    "        nombres.append(user)\n",
    "        \n",
    "        print(user[1])"
   ]
  },
  {
   "cell_type": "markdown",
   "id": "142fb867",
   "metadata": {},
   "source": [
    "Mostrar el nombre y la edad de todos los usuarios y todas las usuarias que han comprado ropa.\n",
    "\n",
    "Display the name and age of all users who have bought clothes."
   ]
  },
  {
   "cell_type": "code",
   "execution_count": 13,
   "id": "00806d78",
   "metadata": {},
   "outputs": [
    {
     "name": "stdout",
     "output_type": "stream",
     "text": [
      "[['kate', 'morgan'], 24]\n",
      "[['samantha', 'smith'], 29]\n",
      "[['maria', 'garcia'], 33]\n",
      "[['lisa', 'wilson'], 35]\n",
      "[['james', 'lee'], 28]\n"
     ]
    }
   ],
   "source": [
    "users = [\n",
    "    ['32415', ['mike', 'reed'], 32, ['electronics', 'sport', 'books'],\n",
    "     [894, 213, 173]],\n",
    "    ['31980', ['kate', 'morgan'], 24, ['clothes', 'books'], [439,\n",
    "     390]],\n",
    "    ['32156', ['john', 'doe'], 37, ['electronics', 'home', 'food'],\n",
    "     [459, 120, 99]],\n",
    "    ['32761', ['samantha', 'smith'], 29, ['clothes', 'electronics',\n",
    "     'beauty'], [299, 679, 85]],\n",
    "    ['32984', ['david', 'white'], 41, ['books', 'home', 'sport'], [234,\n",
    "     329, 243]],\n",
    "    ['33001', ['emily', 'brown'], 26, ['beauty', 'home', 'food'], [213,\n",
    "     659, 79]],\n",
    "    ['33767', ['maria', 'garcia'], 33, ['clothes', 'food', 'beauty'],\n",
    "     [499, 189, 63]],\n",
    "    ['33912', ['jose', 'martinez'], 22, ['sport', 'electronics', 'home'\n",
    "     ], [259, 549, 109]],\n",
    "    ['34009', ['lisa', 'wilson'], 35, ['home', 'books', 'clothes'],\n",
    "     [329, 189, 329]],\n",
    "    ['34278', ['james', 'lee'], 28, ['beauty', 'clothes', 'electronics'\n",
    "     ], [189, 299, 579]],\n",
    "    ]\n",
    "\n",
    "ropa = []\n",
    "\n",
    "for user in users:\n",
    "    if 'clothes' in user[3]:\n",
    "        ropa.append(user)\n",
    "        \n",
    "        print(user[1:3])"
   ]
  }
 ],
 "metadata": {
  "ExecuteTimeLog": [
   {
    "duration": 5,
    "start_time": "2025-02-04T20:18:13.179Z"
   },
   {
    "duration": 3,
    "start_time": "2025-02-04T20:19:50.704Z"
   },
   {
    "duration": 3,
    "start_time": "2025-02-04T20:20:18.358Z"
   },
   {
    "duration": 3,
    "start_time": "2025-02-04T20:20:42.309Z"
   },
   {
    "duration": 4,
    "start_time": "2025-02-04T20:21:51.100Z"
   },
   {
    "duration": 4,
    "start_time": "2025-02-04T20:23:28.555Z"
   },
   {
    "duration": 3,
    "start_time": "2025-02-04T20:27:38.726Z"
   },
   {
    "duration": 4,
    "start_time": "2025-02-04T20:30:03.884Z"
   },
   {
    "duration": 3,
    "start_time": "2025-02-04T20:36:41.957Z"
   },
   {
    "duration": 4,
    "start_time": "2025-02-04T20:38:24.266Z"
   },
   {
    "duration": 7,
    "start_time": "2025-02-04T20:39:06.165Z"
   },
   {
    "duration": 6,
    "start_time": "2025-02-04T20:39:34.753Z"
   },
   {
    "duration": 6,
    "start_time": "2025-02-04T20:40:03.813Z"
   },
   {
    "duration": 3,
    "start_time": "2025-02-04T20:44:46.665Z"
   }
  ],
  "kernelspec": {
   "display_name": "Python 3 (ipykernel)",
   "language": "python",
   "name": "python3"
  },
  "language_info": {
   "codemirror_mode": {
    "name": "ipython",
    "version": 3
   },
   "file_extension": ".py",
   "mimetype": "text/x-python",
   "name": "python",
   "nbconvert_exporter": "python",
   "pygments_lexer": "ipython3",
   "version": "3.9.19"
  },
  "toc": {
   "base_numbering": 1,
   "nav_menu": {},
   "number_sections": true,
   "sideBar": true,
   "skip_h1_title": true,
   "title_cell": "Table of Contents",
   "title_sidebar": "Contents",
   "toc_cell": false,
   "toc_position": {},
   "toc_section_display": true,
   "toc_window_display": false
  }
 },
 "nbformat": 4,
 "nbformat_minor": 5
}
